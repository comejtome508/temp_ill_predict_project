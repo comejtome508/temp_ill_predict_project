{
 "cells": [
  {
   "cell_type": "code",
   "execution_count": 2,
   "id": "1c9703bc-49d4-4524-8789-7345aa02b33a",
   "metadata": {},
   "outputs": [
    {
     "data": {
      "text/html": [
       "<div>\n",
       "<style scoped>\n",
       "    .dataframe tbody tr th:only-of-type {\n",
       "        vertical-align: middle;\n",
       "    }\n",
       "\n",
       "    .dataframe tbody tr th {\n",
       "        vertical-align: top;\n",
       "    }\n",
       "\n",
       "    .dataframe thead th {\n",
       "        text-align: right;\n",
       "    }\n",
       "</style>\n",
       "<table border=\"1\" class=\"dataframe\">\n",
       "  <thead>\n",
       "    <tr style=\"text-align: right;\">\n",
       "      <th></th>\n",
       "      <th>Unnamed: 0</th>\n",
       "      <th>기준년도</th>\n",
       "      <th>가입자일련번호</th>\n",
       "      <th>진료내역일련번호</th>\n",
       "      <th>성별코드</th>\n",
       "      <th>연령대코드</th>\n",
       "      <th>시도코드</th>\n",
       "      <th>요양개시일자</th>\n",
       "      <th>서식코드</th>\n",
       "      <th>진료과목코드</th>\n",
       "      <th>주상병코드</th>\n",
       "      <th>부상병코드</th>\n",
       "      <th>요양일수</th>\n",
       "      <th>입내원일수</th>\n",
       "      <th>심결가산율</th>\n",
       "      <th>심결요양급여비용총액</th>\n",
       "      <th>심결본인부담금</th>\n",
       "      <th>심결보험자부담금</th>\n",
       "      <th>총처방일수</th>\n",
       "      <th>최고기온</th>\n",
       "    </tr>\n",
       "  </thead>\n",
       "  <tbody>\n",
       "    <tr>\n",
       "      <th>0</th>\n",
       "      <td>0</td>\n",
       "      <td>2022</td>\n",
       "      <td>323087</td>\n",
       "      <td>671512</td>\n",
       "      <td>2</td>\n",
       "      <td>14</td>\n",
       "      <td>41</td>\n",
       "      <td>2022-03-25</td>\n",
       "      <td>3</td>\n",
       "      <td>1</td>\n",
       "      <td>I10</td>\n",
       "      <td>E785</td>\n",
       "      <td>1</td>\n",
       "      <td>1</td>\n",
       "      <td>0.15</td>\n",
       "      <td>12130</td>\n",
       "      <td>1500</td>\n",
       "      <td>10630</td>\n",
       "      <td>0</td>\n",
       "      <td>17.6</td>\n",
       "    </tr>\n",
       "    <tr>\n",
       "      <th>1</th>\n",
       "      <td>1</td>\n",
       "      <td>2022</td>\n",
       "      <td>661178</td>\n",
       "      <td>195643</td>\n",
       "      <td>2</td>\n",
       "      <td>15</td>\n",
       "      <td>41</td>\n",
       "      <td>2022-03-25</td>\n",
       "      <td>3</td>\n",
       "      <td>1</td>\n",
       "      <td>M17</td>\n",
       "      <td>M5440</td>\n",
       "      <td>1</td>\n",
       "      <td>1</td>\n",
       "      <td>0.15</td>\n",
       "      <td>12130</td>\n",
       "      <td>1500</td>\n",
       "      <td>10630</td>\n",
       "      <td>0</td>\n",
       "      <td>17.6</td>\n",
       "    </tr>\n",
       "    <tr>\n",
       "      <th>2</th>\n",
       "      <td>2</td>\n",
       "      <td>2022</td>\n",
       "      <td>49859</td>\n",
       "      <td>79868</td>\n",
       "      <td>2</td>\n",
       "      <td>14</td>\n",
       "      <td>41</td>\n",
       "      <td>2022-03-25</td>\n",
       "      <td>3</td>\n",
       "      <td>1</td>\n",
       "      <td>I10</td>\n",
       "      <td>L2085</td>\n",
       "      <td>1</td>\n",
       "      <td>1</td>\n",
       "      <td>0.15</td>\n",
       "      <td>12130</td>\n",
       "      <td>1500</td>\n",
       "      <td>10630</td>\n",
       "      <td>90</td>\n",
       "      <td>17.6</td>\n",
       "    </tr>\n",
       "    <tr>\n",
       "      <th>3</th>\n",
       "      <td>3</td>\n",
       "      <td>2022</td>\n",
       "      <td>976687</td>\n",
       "      <td>280439</td>\n",
       "      <td>2</td>\n",
       "      <td>14</td>\n",
       "      <td>41</td>\n",
       "      <td>2022-03-25</td>\n",
       "      <td>3</td>\n",
       "      <td>1</td>\n",
       "      <td>I10</td>\n",
       "      <td>K297</td>\n",
       "      <td>1</td>\n",
       "      <td>1</td>\n",
       "      <td>0.15</td>\n",
       "      <td>12130</td>\n",
       "      <td>1500</td>\n",
       "      <td>10630</td>\n",
       "      <td>5</td>\n",
       "      <td>17.6</td>\n",
       "    </tr>\n",
       "    <tr>\n",
       "      <th>4</th>\n",
       "      <td>4</td>\n",
       "      <td>2022</td>\n",
       "      <td>542027</td>\n",
       "      <td>907728</td>\n",
       "      <td>2</td>\n",
       "      <td>14</td>\n",
       "      <td>41</td>\n",
       "      <td>2022-03-25</td>\n",
       "      <td>3</td>\n",
       "      <td>1</td>\n",
       "      <td>I10</td>\n",
       "      <td>H814</td>\n",
       "      <td>1</td>\n",
       "      <td>1</td>\n",
       "      <td>0.15</td>\n",
       "      <td>12130</td>\n",
       "      <td>1500</td>\n",
       "      <td>10630</td>\n",
       "      <td>30</td>\n",
       "      <td>17.6</td>\n",
       "    </tr>\n",
       "  </tbody>\n",
       "</table>\n",
       "</div>"
      ],
      "text/plain": [
       "   Unnamed: 0  기준년도  가입자일련번호  진료내역일련번호  성별코드  연령대코드  시도코드      요양개시일자  서식코드  \\\n",
       "0           0  2022   323087    671512     2     14    41  2022-03-25     3   \n",
       "1           1  2022   661178    195643     2     15    41  2022-03-25     3   \n",
       "2           2  2022    49859     79868     2     14    41  2022-03-25     3   \n",
       "3           3  2022   976687    280439     2     14    41  2022-03-25     3   \n",
       "4           4  2022   542027    907728     2     14    41  2022-03-25     3   \n",
       "\n",
       "   진료과목코드 주상병코드  부상병코드  요양일수  입내원일수  심결가산율  심결요양급여비용총액  심결본인부담금  심결보험자부담금  \\\n",
       "0       1   I10   E785     1      1   0.15       12130     1500     10630   \n",
       "1       1   M17  M5440     1      1   0.15       12130     1500     10630   \n",
       "2       1   I10  L2085     1      1   0.15       12130     1500     10630   \n",
       "3       1   I10   K297     1      1   0.15       12130     1500     10630   \n",
       "4       1   I10   H814     1      1   0.15       12130     1500     10630   \n",
       "\n",
       "   총처방일수  최고기온  \n",
       "0      0  17.6  \n",
       "1      0  17.6  \n",
       "2     90  17.6  \n",
       "3      5  17.6  \n",
       "4     30  17.6  "
      ]
     },
     "execution_count": 2,
     "metadata": {},
     "output_type": "execute_result"
    }
   ],
   "source": [
    "# 일단 폭염일 때 가장 많은 질병 10개를 골라야함.\n",
    "\n",
    "import pandas as pd\n",
    "join = pd.read_csv(\"진료내역_온도_join.csv\")\n",
    "join.head()"
   ]
  },
  {
   "cell_type": "code",
   "execution_count": 3,
   "id": "b7402a58-7ff3-47fb-9b2a-457fae7d812c",
   "metadata": {},
   "outputs": [
    {
     "name": "stdout",
     "output_type": "stream",
     "text": [
      "         Unnamed: 0  기준년도  가입자일련번호  진료내역일련번호  성별코드  연령대코드  시도코드      요양개시일자  \\\n",
      "6083683     6083683  2022   406393   9353848     2     15    41  2022-07-29   \n",
      "6083684     6083684  2022   867532   8978181     2     17    41  2022-07-29   \n",
      "6083685     6083685  2022    39292   8795814     2     16    41  2022-07-29   \n",
      "6083686     6083686  2022   257136   8512998     2     16    41  2022-07-29   \n",
      "6083687     6083687  2022   943889   9302575     2     14    41  2022-07-29   \n",
      "\n",
      "         서식코드  진료과목코드 주상병코드 부상병코드  요양일수  입내원일수  심결가산율  심결요양급여비용총액  심결본인부담금  \\\n",
      "6083683     3       1   A09  R074     1      1   0.15       12130     1500   \n",
      "6083684     3       1   M89    N_     1      1   0.15       12130     1500   \n",
      "6083685     3       1   E11  I109     1      1   0.15       12130     1500   \n",
      "6083686     3       1   E11  E785     1      1   0.15       12130     1500   \n",
      "6083687     3       1   I10  G479     1      1   0.15       12130     1500   \n",
      "\n",
      "         심결보험자부담금  총처방일수  최고기온  \n",
      "6083683     10630      0  33.3  \n",
      "6083684     10630      0  33.3  \n",
      "6083685     10630      0  33.3  \n",
      "6083686     10630      0  33.3  \n",
      "6083687     10630      5  33.3  \n",
      "(101792, 20)\n"
     ]
    }
   ],
   "source": [
    "up_33 = join[(join[\"최고기온\"] >= 33)]\n",
    "print(up_33.head())\n",
    "print(up_33.shape)"
   ]
  },
  {
   "cell_type": "code",
   "execution_count": 16,
   "id": "373bb35b-276e-4974-8fcc-ba04d693a49e",
   "metadata": {},
   "outputs": [
    {
     "name": "stdout",
     "output_type": "stream",
     "text": [
      "<class 'pandas.core.series.Series'>\n"
     ]
    }
   ],
   "source": [
    "# 폭염인 날짜에 대해서 주상병코드 많은 것 10개 추출\n",
    "up33_li = up_33.value_counts(\"주상병코드\")\n",
    "print(type(up33_li))\n"
   ]
  },
  {
   "cell_type": "code",
   "execution_count": 18,
   "id": "3843757d-57b0-49ad-8c99-a0dd9e5433d9",
   "metadata": {},
   "outputs": [
    {
     "data": {
      "image/png": "[encoded data removed]",
      "text/plain": [
       "<Figure size 640x480 with 1 Axes>"
      ]
     },
     "metadata": {},
     "output_type": "display_data"
    }
   ],
   "source": [
    "import matplotlib.pyplot as plt\n",
    "\n",
    "plt.bar(up33_li.index[:20], up33_li.values[:20])\n",
    "plt.xticks(rotation=45, ha='right')\n",
    "plt.show()\n"
   ]
  },
  {
   "cell_type": "code",
   "execution_count": 5,
   "id": "8e0143f1-89b5-4cd2-ba03-b697e993dd83",
   "metadata": {},
   "outputs": [
    {
     "data": {
      "text/plain": [
       "주상병코드\n",
       "U_     825651\n",
       "J20    774550\n",
       "I10    773170\n",
       "F_     484001\n",
       "E11    420677\n",
       "        ...  \n",
       "B76         1\n",
       "U50         1\n",
       "B60         1\n",
       "L68         1\n",
       "P25         1\n",
       "Length: 1260, dtype: int64"
      ]
     },
     "execution_count": 5,
     "metadata": {},
     "output_type": "execute_result"
    }
   ],
   "source": [
    "join.value_counts(\"주상병코드\")"
   ]
  },
  {
   "cell_type": "code",
   "execution_count": 19,
   "id": "c87a8e84-9b6c-4bf4-85d9-8e025bc56470",
   "metadata": {},
   "outputs": [
    {
     "data": {
      "image/png": "[encoded data removed]",
      "text/plain": [
       "<Figure size 640x480 with 1 Axes>"
      ]
     },
     "metadata": {},
     "output_type": "display_data"
    }
   ],
   "source": [
    "join_li = join.value_counts(\"주상병코드\")\n",
    "\n",
    "plt.bar(join_li.index[:20], join_li.values[:20])\n",
    "plt.xticks(rotation=45, ha='right')\n",
    "plt.show()"
   ]
  }
 ],
 "metadata": {
  "kernelspec": {
   "display_name": "Python 3 (ipykernel)",
   "language": "python",
   "name": "python3"
  },
  "language_info": {
   "codemirror_mode": {
    "name": "ipython",
    "version": 3
   },
   "file_extension": ".py",
   "mimetype": "text/x-python",
   "name": "python",
   "nbconvert_exporter": "python",
   "pygments_lexer": "ipython3",
   "version": "3.8.15"
  }
 },
 "nbformat": 4,
 "nbformat_minor": 5
}
